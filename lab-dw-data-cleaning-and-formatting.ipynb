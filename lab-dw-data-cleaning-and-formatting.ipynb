{
  "cells": [
    {
      "cell_type": "markdown",
      "id": "25d7736c-ba17-4aff-b6bb-66eba20fbf4e",
      "metadata": {
        "id": "25d7736c-ba17-4aff-b6bb-66eba20fbf4e"
      },
      "source": [
        "# Lab | Data Cleaning and Formatting"
      ]
    },
    {
      "cell_type": "markdown",
      "id": "d1973e9e-8be6-4039-b70e-d73ee0d94c99",
      "metadata": {
        "id": "d1973e9e-8be6-4039-b70e-d73ee0d94c99"
      },
      "source": [
        "In this lab, we will be working with the customer data from an insurance company, which can be found in the CSV file located at the following link: https://raw.githubusercontent.com/data-bootcamp-v4/data/main/file1.csv\n"
      ]
    },
    {
      "cell_type": "markdown",
      "id": "31b8a9e7-7db9-4604-991b-ef6771603e57",
      "metadata": {
        "id": "31b8a9e7-7db9-4604-991b-ef6771603e57"
      },
      "source": [
        "# Challenge 1: Data Cleaning and Formatting"
      ]
    },
    {
      "cell_type": "markdown",
      "id": "81553f19-9f2c-484b-8940-520aff884022",
      "metadata": {
        "id": "81553f19-9f2c-484b-8940-520aff884022"
      },
      "source": [
        "## Exercise 1: Cleaning Column Names"
      ]
    },
    {
      "cell_type": "markdown",
      "id": "34a929f4-1be4-4fa8-adda-42ffd920be90",
      "metadata": {
        "id": "34a929f4-1be4-4fa8-adda-42ffd920be90"
      },
      "source": [
        "To ensure consistency and ease of use, standardize the column names of the dataframe. Start by taking a first look at the dataframe and identifying any column names that need to be modified. Use appropriate naming conventions and make sure that column names are descriptive and informative.\n",
        "\n",
        "*Hint*:\n",
        "- *Column names should be in lower case*\n",
        "- *White spaces in column names should be replaced by `_`*\n",
        "- *`st` could be replaced for `state`*"
      ]
    },
    {
      "cell_type": "code",
      "execution_count": 222,
      "id": "5810735c-8056-4442-bbf2-dda38d3e284a",
      "metadata": {
        "id": "5810735c-8056-4442-bbf2-dda38d3e284a"
      },
      "outputs": [],
      "source": [
        "import pandas as pd\n",
        "import numpy as np"
      ]
    },
    {
      "cell_type": "code",
      "execution_count": 223,
      "id": "d29bb190",
      "metadata": {},
      "outputs": [],
      "source": [
        "customers_df = pd.read_csv(\"https://raw.githubusercontent.com/data-bootcamp-v4/data/main/file1.csv\")\n"
      ]
    },
    {
      "cell_type": "code",
      "execution_count": 224,
      "id": "35f2ca06",
      "metadata": {},
      "outputs": [
        {
          "data": {
            "application/vnd.microsoft.datawrangler.viewer.v0+json": {
              "columns": [
                {
                  "name": "index",
                  "rawType": "int64",
                  "type": "integer"
                },
                {
                  "name": "customer",
                  "rawType": "object",
                  "type": "unknown"
                },
                {
                  "name": "state",
                  "rawType": "object",
                  "type": "unknown"
                },
                {
                  "name": "gender",
                  "rawType": "object",
                  "type": "unknown"
                },
                {
                  "name": "education",
                  "rawType": "object",
                  "type": "unknown"
                },
                {
                  "name": "customer_lifetime_value",
                  "rawType": "object",
                  "type": "unknown"
                },
                {
                  "name": "income",
                  "rawType": "float64",
                  "type": "float"
                },
                {
                  "name": "monthly_premium_auto",
                  "rawType": "float64",
                  "type": "float"
                },
                {
                  "name": "number_of_open_complaints",
                  "rawType": "object",
                  "type": "unknown"
                },
                {
                  "name": "policy_type",
                  "rawType": "object",
                  "type": "unknown"
                },
                {
                  "name": "vehicle_class",
                  "rawType": "object",
                  "type": "unknown"
                },
                {
                  "name": "total_claim_amount",
                  "rawType": "float64",
                  "type": "float"
                }
              ],
              "ref": "9488cc1f-49d0-4800-934b-7a5339df3642",
              "rows": [
                [
                  "0",
                  "RB50392",
                  "Washington",
                  null,
                  "Master",
                  null,
                  "0.0",
                  "1000.0",
                  "1/0/00",
                  "Personal Auto",
                  "Four-Door Car",
                  "2.704934"
                ],
                [
                  "1",
                  "QZ44356",
                  "Arizona",
                  "F",
                  "Bachelor",
                  "697953.59%",
                  "0.0",
                  "94.0",
                  "1/0/00",
                  "Personal Auto",
                  "Four-Door Car",
                  "1131.464935"
                ],
                [
                  "2",
                  "AI49188",
                  "Nevada",
                  "F",
                  "Bachelor",
                  "1288743.17%",
                  "48767.0",
                  "108.0",
                  "1/0/00",
                  "Personal Auto",
                  "Two-Door Car",
                  "566.472247"
                ],
                [
                  "3",
                  "WW63253",
                  "California",
                  "M",
                  "Bachelor",
                  "764586.18%",
                  "0.0",
                  "106.0",
                  "1/0/00",
                  "Corporate Auto",
                  "SUV",
                  "529.881344"
                ],
                [
                  "4",
                  "GA49547",
                  "Washington",
                  "M",
                  "High School or Below",
                  "536307.65%",
                  "36357.0",
                  "68.0",
                  "1/0/00",
                  "Personal Auto",
                  "Four-Door Car",
                  "17.269323"
                ],
                [
                  "5",
                  "OC83172",
                  "Oregon",
                  "F",
                  "Bachelor",
                  "825629.78%",
                  "62902.0",
                  "69.0",
                  "1/0/00",
                  "Personal Auto",
                  "Two-Door Car",
                  "159.383042"
                ],
                [
                  "6",
                  "XZ87318",
                  "Oregon",
                  "F",
                  "College",
                  "538089.86%",
                  "55350.0",
                  "67.0",
                  "1/0/00",
                  "Corporate Auto",
                  "Four-Door Car",
                  "321.6"
                ],
                [
                  "7",
                  "CF85061",
                  "Arizona",
                  "M",
                  "Master",
                  "721610.03%",
                  "0.0",
                  "101.0",
                  "1/0/00",
                  "Corporate Auto",
                  "Four-Door Car",
                  "363.02968"
                ],
                [
                  "8",
                  "DY87989",
                  "Oregon",
                  "M",
                  "Bachelor",
                  "2412750.40%",
                  "14072.0",
                  "71.0",
                  "1/0/00",
                  "Corporate Auto",
                  "Four-Door Car",
                  "511.2"
                ],
                [
                  "9",
                  "BQ94931",
                  "Oregon",
                  "F",
                  "College",
                  "738817.81%",
                  "28812.0",
                  "93.0",
                  "1/0/00",
                  "Special Auto",
                  "Four-Door Car",
                  "425.527834"
                ],
                [
                  "10",
                  "SX51350",
                  "California",
                  "M",
                  "College",
                  "473899.20%",
                  "0.0",
                  "67.0",
                  "1/0/00",
                  "Personal Auto",
                  "Four-Door Car",
                  "482.4"
                ],
                [
                  "11",
                  "VQ65197",
                  "California",
                  null,
                  "College",
                  "819719.71%",
                  "0.0",
                  "110.0",
                  "1/0/00",
                  "Personal Auto",
                  "SUV",
                  "528.0"
                ],
                [
                  "12",
                  "DP39365",
                  "California",
                  null,
                  "Master",
                  "879879.70%",
                  "77026.0",
                  "110.0",
                  "1/2/00",
                  "Corporate Auto",
                  "Four-Door Car",
                  "472.029737"
                ],
                [
                  "13",
                  "SJ95423",
                  "Arizona",
                  null,
                  "High School or Below",
                  "881901.89%",
                  "99845.0",
                  "110.0",
                  "1/1/00",
                  "Corporate Auto",
                  "SUV",
                  "528.0"
                ],
                [
                  "14",
                  "IL66569",
                  "California",
                  null,
                  "College",
                  "538443.17%",
                  "83689.0",
                  "70.0",
                  "1/2/00",
                  "Corporate Auto",
                  "Four-Door Car",
                  "307.139132"
                ],
                [
                  "15",
                  "BW63560",
                  "Oregon",
                  null,
                  "Bachelor",
                  "746313.94%",
                  "24599.0",
                  "64.0",
                  "1/1/00",
                  "Corporate Auto",
                  "Four-Door Car",
                  "42.920271"
                ],
                [
                  "16",
                  "FV94802",
                  "Nevada",
                  null,
                  "High School or Below",
                  "256686.78%",
                  "25049.0",
                  "67.0",
                  "1/0/00",
                  "Personal Auto",
                  "Two-Door Car",
                  "454.245098"
                ],
                [
                  "17",
                  "OE15005",
                  "Cali",
                  null,
                  "College",
                  "394524.16%",
                  "28855.0",
                  "101.0",
                  "1/0/00",
                  "Personal Auto",
                  "SUV",
                  "647.442031"
                ],
                [
                  "18",
                  "WC83389",
                  "Oregon",
                  null,
                  "College",
                  "571033.31%",
                  "51148.0",
                  "72.0",
                  "1/0/00",
                  "Personal Auto",
                  "Four-Door Car",
                  "308.981664"
                ],
                [
                  "19",
                  "FL50705",
                  "California",
                  null,
                  "High School or Below",
                  "816261.71%",
                  "66140.0",
                  "101.0",
                  "1/0/00",
                  "Corporate Auto",
                  "Four-Door Car",
                  "484.8"
                ],
                [
                  "20",
                  "ZK25313",
                  "Oregon",
                  null,
                  "High School or Below",
                  "287205.13%",
                  "57749.0",
                  "74.0",
                  "1/0/00",
                  "Personal Auto",
                  "Two-Door Car",
                  "355.2"
                ],
                [
                  "21",
                  "QK46697",
                  "Washington",
                  "M",
                  "Bachelors",
                  "617710.93%",
                  "61040.0",
                  "79.0",
                  "1/1/00",
                  "Personal Auto",
                  "Two-Door Car",
                  "20.382876"
                ],
                [
                  "22",
                  "YH23384",
                  "Arizona",
                  null,
                  "Bachelor",
                  "2412750.40%",
                  "14072.0",
                  "71.0",
                  "1/0/00",
                  "Personal Auto",
                  "Four-Door Car",
                  "511.2"
                ],
                [
                  "23",
                  "TZ98966",
                  "Nevada",
                  null,
                  "Bachelor",
                  "245019.10%",
                  "0.0",
                  "73.0",
                  "1/3/00",
                  "Corporate Auto",
                  "Four-Door Car",
                  "554.376763"
                ],
                [
                  "24",
                  "HM55802",
                  "California",
                  null,
                  "Bachelor",
                  "239210.79%",
                  "17870.0",
                  "61.0",
                  "1/0/00",
                  "Corporate Auto",
                  "Four-Door Car",
                  "439.2"
                ],
                [
                  "25",
                  "FS42516",
                  "Oregon",
                  null,
                  "College",
                  "580206.60%",
                  "97541.0",
                  "72.0",
                  "1/0/00",
                  "Personal Auto",
                  "Four-Door Car",
                  "389.185006"
                ],
                [
                  "26",
                  "US89481",
                  "California",
                  null,
                  "Bachelor",
                  "394637.21%",
                  "0.0",
                  "111.0",
                  "1/0/00",
                  "Personal Auto",
                  "Four-Door Car",
                  "799.2"
                ],
                [
                  "27",
                  "HS14476",
                  "Washington",
                  "M",
                  "College",
                  "916206.32%",
                  "29723.0",
                  "80.0",
                  "1/0/00",
                  "Personal Auto",
                  "Four-Door Car",
                  "20.985105"
                ],
                [
                  "28",
                  "GE62437",
                  "AZ",
                  null,
                  "College",
                  "1290256.01%",
                  "86584.0",
                  "111.0",
                  "1/2/00",
                  "Personal Auto",
                  "Four-Door Car",
                  "532.8"
                ],
                [
                  "29",
                  "EJ77678",
                  "Oregon",
                  null,
                  "Master",
                  "323536.05%",
                  "75690.0",
                  "80.0",
                  "1/1/00",
                  "Personal Auto",
                  "Four-Door Car",
                  "384.0"
                ],
                [
                  "30",
                  "SV85652",
                  "Arizona",
                  null,
                  "College",
                  "245458.35%",
                  "23158.0",
                  "63.0",
                  "1/1/00",
                  "Personal Auto",
                  "Four-Door Car",
                  "322.294043"
                ],
                [
                  "31",
                  "UL64533",
                  "Nevada",
                  null,
                  "High School or Below",
                  "1897545.61%",
                  "65999.0",
                  "237.0",
                  "1/0/00",
                  "Corporate Auto",
                  "Luxury SUV",
                  "615.927769"
                ],
                [
                  "32",
                  "PF41800",
                  "California",
                  null,
                  "Bachelor",
                  "471532.13%",
                  "0.0",
                  "65.0",
                  "1/0/00",
                  "Personal Auto",
                  "Four-Door Car",
                  "308.15089"
                ],
                [
                  "33",
                  "HD95276",
                  "Washington",
                  "F",
                  "College",
                  "473787.17%",
                  "0.0",
                  "130.0",
                  "1/0/00",
                  "Personal Auto",
                  "SUV",
                  "23.820158"
                ],
                [
                  "34",
                  "SK67821",
                  "Oregon",
                  null,
                  "Bachelor",
                  "493291.63%",
                  "37260.0",
                  "62.0",
                  "1/0/00",
                  "Corporate Auto",
                  "Four-Door Car",
                  "15.437681"
                ],
                [
                  "35",
                  "YV55495",
                  "Arizona",
                  null,
                  "High School or Below",
                  "574422.97%",
                  "68987.0",
                  "71.0",
                  "1/0/00",
                  "Personal Auto",
                  "Four-Door Car",
                  "204.475147"
                ],
                [
                  "36",
                  "KY38074",
                  "California",
                  null,
                  "Bachelor",
                  "1389173.57%",
                  "42305.0",
                  "117.0",
                  "1/0/00",
                  "Personal Auto",
                  "Four-Door Car",
                  "561.6"
                ],
                [
                  "37",
                  "DM79012",
                  "Oregon",
                  null,
                  "Master",
                  "738097.67%",
                  "65706.0",
                  "91.0",
                  "1/0/00",
                  "Personal Auto",
                  "Four-Door Car",
                  "436.8"
                ],
                [
                  "38",
                  "CM61827",
                  "Oregon",
                  null,
                  "Bachelor",
                  "309003.41%",
                  "0.0",
                  "90.0",
                  "1/0/00",
                  "Personal Auto",
                  "Two-Door Car",
                  "648.0"
                ],
                [
                  "39",
                  "WC35801",
                  "Arizona",
                  null,
                  "High School or Below",
                  "252163.31%",
                  "53243.0",
                  "66.0",
                  "1/2/00",
                  "Personal Auto",
                  "Four-Door Car",
                  "157.397849"
                ],
                [
                  "40",
                  "QG25316",
                  "Nevada",
                  null,
                  "High School or Below",
                  "265206.18%",
                  "0.0",
                  "70.0",
                  "1/1/00",
                  "Corporate Auto",
                  "Two-Door Car",
                  "484.318536"
                ],
                [
                  "41",
                  "MB98372",
                  "Oregon",
                  null,
                  "College",
                  "277104.50%",
                  "50071.0",
                  "71.0",
                  "1/0/00",
                  "Corporate Auto",
                  "Two-Door Car",
                  "18.918935"
                ],
                [
                  "42",
                  "IL19217",
                  "California",
                  null,
                  "Bachelor",
                  "393900.64%",
                  "60021.0",
                  "99.0",
                  "1/0/00",
                  "Personal Auto",
                  "Four-Door Car",
                  "882.871945"
                ],
                [
                  "43",
                  "SR38658",
                  "Arizona",
                  null,
                  "High School or Below",
                  "1223187.97%",
                  "43244.0",
                  "103.0",
                  "1/0/00",
                  "Personal Auto",
                  "Sports Car",
                  "494.4"
                ],
                [
                  "44",
                  "YD87931",
                  "Washington",
                  "M",
                  "Doctor",
                  "495165.61%",
                  "46896.0",
                  "35354.0",
                  "1/1/00",
                  "Personal Auto",
                  "Four-Door Car",
                  "31.707317"
                ],
                [
                  "45",
                  "HG65722",
                  "Oregon",
                  null,
                  "Doctor",
                  "1281910.29%",
                  "10105.0",
                  "172.0",
                  "1/3/00",
                  "Personal Auto",
                  "SUV",
                  "0.517753"
                ],
                [
                  "46",
                  "BU27331",
                  "Arizona",
                  null,
                  "Bachelor",
                  "446851.05%",
                  "0.0",
                  "73.0",
                  "1/3/00",
                  "Personal Auto",
                  "Four-Door Car",
                  "579.165954"
                ],
                [
                  "47",
                  "XM45289",
                  "Oregon",
                  null,
                  "High School or Below",
                  "551434.40%",
                  "23218.0",
                  "71.0",
                  "1/0/00",
                  "Personal Auto",
                  "Two-Door Car",
                  "447.79344"
                ],
                [
                  "48",
                  "KP34198",
                  "California",
                  null,
                  "Bachelor",
                  "334387.53%",
                  "0.0",
                  "92.0",
                  "1/0/00",
                  "Corporate Auto",
                  "Four-Door Car",
                  "529.624084"
                ],
                [
                  "49",
                  "SH90947",
                  "Arizona",
                  null,
                  "High School or Below",
                  "229447.89%",
                  "0.0",
                  "62.0",
                  "1/0/00",
                  "Personal Auto",
                  "Four-Door Car",
                  "313.023175"
                ]
              ],
              "shape": {
                "columns": 11,
                "rows": 4008
              }
            },
            "text/html": [
              "<div>\n",
              "<style scoped>\n",
              "    .dataframe tbody tr th:only-of-type {\n",
              "        vertical-align: middle;\n",
              "    }\n",
              "\n",
              "    .dataframe tbody tr th {\n",
              "        vertical-align: top;\n",
              "    }\n",
              "\n",
              "    .dataframe thead th {\n",
              "        text-align: right;\n",
              "    }\n",
              "</style>\n",
              "<table border=\"1\" class=\"dataframe\">\n",
              "  <thead>\n",
              "    <tr style=\"text-align: right;\">\n",
              "      <th></th>\n",
              "      <th>customer</th>\n",
              "      <th>state</th>\n",
              "      <th>gender</th>\n",
              "      <th>education</th>\n",
              "      <th>customer_lifetime_value</th>\n",
              "      <th>income</th>\n",
              "      <th>monthly_premium_auto</th>\n",
              "      <th>number_of_open_complaints</th>\n",
              "      <th>policy_type</th>\n",
              "      <th>vehicle_class</th>\n",
              "      <th>total_claim_amount</th>\n",
              "    </tr>\n",
              "  </thead>\n",
              "  <tbody>\n",
              "    <tr>\n",
              "      <th>0</th>\n",
              "      <td>RB50392</td>\n",
              "      <td>Washington</td>\n",
              "      <td>NaN</td>\n",
              "      <td>Master</td>\n",
              "      <td>NaN</td>\n",
              "      <td>0.0</td>\n",
              "      <td>1000.0</td>\n",
              "      <td>1/0/00</td>\n",
              "      <td>Personal Auto</td>\n",
              "      <td>Four-Door Car</td>\n",
              "      <td>2.704934</td>\n",
              "    </tr>\n",
              "    <tr>\n",
              "      <th>1</th>\n",
              "      <td>QZ44356</td>\n",
              "      <td>Arizona</td>\n",
              "      <td>F</td>\n",
              "      <td>Bachelor</td>\n",
              "      <td>697953.59%</td>\n",
              "      <td>0.0</td>\n",
              "      <td>94.0</td>\n",
              "      <td>1/0/00</td>\n",
              "      <td>Personal Auto</td>\n",
              "      <td>Four-Door Car</td>\n",
              "      <td>1131.464935</td>\n",
              "    </tr>\n",
              "    <tr>\n",
              "      <th>2</th>\n",
              "      <td>AI49188</td>\n",
              "      <td>Nevada</td>\n",
              "      <td>F</td>\n",
              "      <td>Bachelor</td>\n",
              "      <td>1288743.17%</td>\n",
              "      <td>48767.0</td>\n",
              "      <td>108.0</td>\n",
              "      <td>1/0/00</td>\n",
              "      <td>Personal Auto</td>\n",
              "      <td>Two-Door Car</td>\n",
              "      <td>566.472247</td>\n",
              "    </tr>\n",
              "    <tr>\n",
              "      <th>3</th>\n",
              "      <td>WW63253</td>\n",
              "      <td>California</td>\n",
              "      <td>M</td>\n",
              "      <td>Bachelor</td>\n",
              "      <td>764586.18%</td>\n",
              "      <td>0.0</td>\n",
              "      <td>106.0</td>\n",
              "      <td>1/0/00</td>\n",
              "      <td>Corporate Auto</td>\n",
              "      <td>SUV</td>\n",
              "      <td>529.881344</td>\n",
              "    </tr>\n",
              "    <tr>\n",
              "      <th>4</th>\n",
              "      <td>GA49547</td>\n",
              "      <td>Washington</td>\n",
              "      <td>M</td>\n",
              "      <td>High School or Below</td>\n",
              "      <td>536307.65%</td>\n",
              "      <td>36357.0</td>\n",
              "      <td>68.0</td>\n",
              "      <td>1/0/00</td>\n",
              "      <td>Personal Auto</td>\n",
              "      <td>Four-Door Car</td>\n",
              "      <td>17.269323</td>\n",
              "    </tr>\n",
              "    <tr>\n",
              "      <th>...</th>\n",
              "      <td>...</td>\n",
              "      <td>...</td>\n",
              "      <td>...</td>\n",
              "      <td>...</td>\n",
              "      <td>...</td>\n",
              "      <td>...</td>\n",
              "      <td>...</td>\n",
              "      <td>...</td>\n",
              "      <td>...</td>\n",
              "      <td>...</td>\n",
              "      <td>...</td>\n",
              "    </tr>\n",
              "    <tr>\n",
              "      <th>4003</th>\n",
              "      <td>NaN</td>\n",
              "      <td>NaN</td>\n",
              "      <td>NaN</td>\n",
              "      <td>NaN</td>\n",
              "      <td>NaN</td>\n",
              "      <td>NaN</td>\n",
              "      <td>NaN</td>\n",
              "      <td>NaN</td>\n",
              "      <td>NaN</td>\n",
              "      <td>NaN</td>\n",
              "      <td>NaN</td>\n",
              "    </tr>\n",
              "    <tr>\n",
              "      <th>4004</th>\n",
              "      <td>NaN</td>\n",
              "      <td>NaN</td>\n",
              "      <td>NaN</td>\n",
              "      <td>NaN</td>\n",
              "      <td>NaN</td>\n",
              "      <td>NaN</td>\n",
              "      <td>NaN</td>\n",
              "      <td>NaN</td>\n",
              "      <td>NaN</td>\n",
              "      <td>NaN</td>\n",
              "      <td>NaN</td>\n",
              "    </tr>\n",
              "    <tr>\n",
              "      <th>4005</th>\n",
              "      <td>NaN</td>\n",
              "      <td>NaN</td>\n",
              "      <td>NaN</td>\n",
              "      <td>NaN</td>\n",
              "      <td>NaN</td>\n",
              "      <td>NaN</td>\n",
              "      <td>NaN</td>\n",
              "      <td>NaN</td>\n",
              "      <td>NaN</td>\n",
              "      <td>NaN</td>\n",
              "      <td>NaN</td>\n",
              "    </tr>\n",
              "    <tr>\n",
              "      <th>4006</th>\n",
              "      <td>NaN</td>\n",
              "      <td>NaN</td>\n",
              "      <td>NaN</td>\n",
              "      <td>NaN</td>\n",
              "      <td>NaN</td>\n",
              "      <td>NaN</td>\n",
              "      <td>NaN</td>\n",
              "      <td>NaN</td>\n",
              "      <td>NaN</td>\n",
              "      <td>NaN</td>\n",
              "      <td>NaN</td>\n",
              "    </tr>\n",
              "    <tr>\n",
              "      <th>4007</th>\n",
              "      <td>NaN</td>\n",
              "      <td>NaN</td>\n",
              "      <td>NaN</td>\n",
              "      <td>NaN</td>\n",
              "      <td>NaN</td>\n",
              "      <td>NaN</td>\n",
              "      <td>NaN</td>\n",
              "      <td>NaN</td>\n",
              "      <td>NaN</td>\n",
              "      <td>NaN</td>\n",
              "      <td>NaN</td>\n",
              "    </tr>\n",
              "  </tbody>\n",
              "</table>\n",
              "<p>4008 rows × 11 columns</p>\n",
              "</div>"
            ],
            "text/plain": [
              "     customer       state gender             education  \\\n",
              "0     RB50392  Washington    NaN                Master   \n",
              "1     QZ44356     Arizona      F              Bachelor   \n",
              "2     AI49188      Nevada      F              Bachelor   \n",
              "3     WW63253  California      M              Bachelor   \n",
              "4     GA49547  Washington      M  High School or Below   \n",
              "...       ...         ...    ...                   ...   \n",
              "4003      NaN         NaN    NaN                   NaN   \n",
              "4004      NaN         NaN    NaN                   NaN   \n",
              "4005      NaN         NaN    NaN                   NaN   \n",
              "4006      NaN         NaN    NaN                   NaN   \n",
              "4007      NaN         NaN    NaN                   NaN   \n",
              "\n",
              "     customer_lifetime_value   income  monthly_premium_auto  \\\n",
              "0                        NaN      0.0                1000.0   \n",
              "1                 697953.59%      0.0                  94.0   \n",
              "2                1288743.17%  48767.0                 108.0   \n",
              "3                 764586.18%      0.0                 106.0   \n",
              "4                 536307.65%  36357.0                  68.0   \n",
              "...                      ...      ...                   ...   \n",
              "4003                     NaN      NaN                   NaN   \n",
              "4004                     NaN      NaN                   NaN   \n",
              "4005                     NaN      NaN                   NaN   \n",
              "4006                     NaN      NaN                   NaN   \n",
              "4007                     NaN      NaN                   NaN   \n",
              "\n",
              "     number_of_open_complaints     policy_type  vehicle_class  \\\n",
              "0                       1/0/00   Personal Auto  Four-Door Car   \n",
              "1                       1/0/00   Personal Auto  Four-Door Car   \n",
              "2                       1/0/00   Personal Auto   Two-Door Car   \n",
              "3                       1/0/00  Corporate Auto            SUV   \n",
              "4                       1/0/00   Personal Auto  Four-Door Car   \n",
              "...                        ...             ...            ...   \n",
              "4003                       NaN             NaN            NaN   \n",
              "4004                       NaN             NaN            NaN   \n",
              "4005                       NaN             NaN            NaN   \n",
              "4006                       NaN             NaN            NaN   \n",
              "4007                       NaN             NaN            NaN   \n",
              "\n",
              "      total_claim_amount  \n",
              "0               2.704934  \n",
              "1            1131.464935  \n",
              "2             566.472247  \n",
              "3             529.881344  \n",
              "4              17.269323  \n",
              "...                  ...  \n",
              "4003                 NaN  \n",
              "4004                 NaN  \n",
              "4005                 NaN  \n",
              "4006                 NaN  \n",
              "4007                 NaN  \n",
              "\n",
              "[4008 rows x 11 columns]"
            ]
          },
          "execution_count": 224,
          "metadata": {},
          "output_type": "execute_result"
        }
      ],
      "source": [
        "customers_df.columns = [c.lower().replace(' ', '_') for c in customers_df.columns]\n",
        "customers_df = customers_df.rename(columns={'st': 'state'})\n",
        "# customers_df.columns = customers_df.columns.str.replace(\"st\", \"state\")\n",
        "customers_df"
      ]
    },
    {
      "cell_type": "code",
      "execution_count": 225,
      "id": "d5be512d",
      "metadata": {},
      "outputs": [],
      "source": [
        "customers_df.dropna(how='all', inplace=True )"
      ]
    },
    {
      "cell_type": "markdown",
      "id": "9cb501ec-36ff-4589-b872-6252bb150316",
      "metadata": {
        "id": "9cb501ec-36ff-4589-b872-6252bb150316"
      },
      "source": [
        "## Exercise 2: Cleaning invalid Values"
      ]
    },
    {
      "cell_type": "markdown",
      "id": "771fdcf3-8e20-4b06-9c24-3a93ba2b0909",
      "metadata": {
        "id": "771fdcf3-8e20-4b06-9c24-3a93ba2b0909"
      },
      "source": [
        "The dataset contains columns with inconsistent and incorrect values that could affect the accuracy of our analysis. Therefore, we need to clean these columns to ensure that they only contain valid data.\n",
        "\n",
        "Note that this exercise will focus only on cleaning inconsistent values and will not involve handling null values (NaN or None).\n",
        "\n",
        "*Hint*:\n",
        "- *Gender column contains various inconsistent values such as \"F\", \"M\", \"Femal\", \"Male\", \"female\", which need to be standardized, for example, to \"M\" and \"F\".*\n",
        "- *State abbreviations be can replaced with its full name, for example \"AZ\": \"Arizona\", \"Cali\": \"California\", \"WA\": \"Washington\"*\n",
        "- *In education, \"Bachelors\" could be replaced by \"Bachelor\"*\n",
        "- *In Customer Lifetime Value, delete the `%` character*\n",
        "- *In vehicle class, \"Sports Car\", \"Luxury SUV\" and \"Luxury Car\" could be replaced by \"Luxury\"*"
      ]
    },
    {
      "cell_type": "code",
      "execution_count": 226,
      "id": "20b24b19",
      "metadata": {},
      "outputs": [
        {
          "data": {
            "text/plain": [
              "array([nan, 'F', 'M', 'Femal', 'Male', 'female'], dtype=object)"
            ]
          },
          "execution_count": 226,
          "metadata": {},
          "output_type": "execute_result"
        }
      ],
      "source": [
        "customers_df.gender.unique()"
      ]
    },
    {
      "cell_type": "code",
      "execution_count": 227,
      "id": "90aebc4c",
      "metadata": {},
      "outputs": [],
      "source": [
        "customers_df[\"gender\"] = customers_df[\"gender\"].replace([\"female\", \"Femal\"], \"F\")\n",
        "customers_df[\"gender\"] = customers_df[\"gender\"].replace(\"Male\", \"M\")\n",
        "customers_df[\"state\"] = customers_df[\"state\"].replace(\"Cali\", \"California\")\n",
        "customers_df[\"state\"] = customers_df[\"state\"].replace(\"WA\", \"Washington\")\n",
        "customers_df[\"state\"] = customers_df[\"state\"].replace(\"AZ\", \"Arizona\")\n",
        "customers_df[\"customer_lifetime_value\"] = customers_df[\"customer_lifetime_value\"].str.replace(\"%\", \"\")\n",
        "customers_df[\"vehicle_class\"] = customers_df[\"vehicle_class\"].replace([\"Sports Car\", \"Luxury SUV\", \"Luxury Car\"], \"Luxury\")\n"
      ]
    },
    {
      "cell_type": "code",
      "execution_count": 228,
      "id": "d2b9b86d",
      "metadata": {},
      "outputs": [
        {
          "data": {
            "application/vnd.microsoft.datawrangler.viewer.v0+json": {
              "columns": [
                {
                  "name": "index",
                  "rawType": "int64",
                  "type": "integer"
                },
                {
                  "name": "customer",
                  "rawType": "object",
                  "type": "string"
                },
                {
                  "name": "state",
                  "rawType": "object",
                  "type": "string"
                },
                {
                  "name": "gender",
                  "rawType": "object",
                  "type": "unknown"
                },
                {
                  "name": "education",
                  "rawType": "object",
                  "type": "string"
                },
                {
                  "name": "customer_lifetime_value",
                  "rawType": "object",
                  "type": "unknown"
                },
                {
                  "name": "income",
                  "rawType": "float64",
                  "type": "float"
                },
                {
                  "name": "monthly_premium_auto",
                  "rawType": "float64",
                  "type": "float"
                },
                {
                  "name": "number_of_open_complaints",
                  "rawType": "object",
                  "type": "string"
                },
                {
                  "name": "policy_type",
                  "rawType": "object",
                  "type": "string"
                },
                {
                  "name": "vehicle_class",
                  "rawType": "object",
                  "type": "string"
                },
                {
                  "name": "total_claim_amount",
                  "rawType": "float64",
                  "type": "float"
                }
              ],
              "ref": "5f034660-ad56-4d21-b17f-3d9b8a8951ad",
              "rows": [
                [
                  "0",
                  "RB50392",
                  "Washington",
                  null,
                  "Master",
                  null,
                  "0.0",
                  "1000.0",
                  "1/0/00",
                  "Personal Auto",
                  "Four-Door Car",
                  "2.704934"
                ],
                [
                  "1",
                  "QZ44356",
                  "Arizona",
                  "F",
                  "Bachelor",
                  "697953.59",
                  "0.0",
                  "94.0",
                  "1/0/00",
                  "Personal Auto",
                  "Four-Door Car",
                  "1131.464935"
                ],
                [
                  "2",
                  "AI49188",
                  "Nevada",
                  "F",
                  "Bachelor",
                  "1288743.17",
                  "48767.0",
                  "108.0",
                  "1/0/00",
                  "Personal Auto",
                  "Two-Door Car",
                  "566.472247"
                ],
                [
                  "3",
                  "WW63253",
                  "California",
                  "M",
                  "Bachelor",
                  "764586.18",
                  "0.0",
                  "106.0",
                  "1/0/00",
                  "Corporate Auto",
                  "SUV",
                  "529.881344"
                ],
                [
                  "4",
                  "GA49547",
                  "Washington",
                  "M",
                  "High School or Below",
                  "536307.65",
                  "36357.0",
                  "68.0",
                  "1/0/00",
                  "Personal Auto",
                  "Four-Door Car",
                  "17.269323"
                ],
                [
                  "5",
                  "OC83172",
                  "Oregon",
                  "F",
                  "Bachelor",
                  "825629.78",
                  "62902.0",
                  "69.0",
                  "1/0/00",
                  "Personal Auto",
                  "Two-Door Car",
                  "159.383042"
                ],
                [
                  "6",
                  "XZ87318",
                  "Oregon",
                  "F",
                  "College",
                  "538089.86",
                  "55350.0",
                  "67.0",
                  "1/0/00",
                  "Corporate Auto",
                  "Four-Door Car",
                  "321.6"
                ],
                [
                  "7",
                  "CF85061",
                  "Arizona",
                  "M",
                  "Master",
                  "721610.03",
                  "0.0",
                  "101.0",
                  "1/0/00",
                  "Corporate Auto",
                  "Four-Door Car",
                  "363.02968"
                ],
                [
                  "8",
                  "DY87989",
                  "Oregon",
                  "M",
                  "Bachelor",
                  "2412750.40",
                  "14072.0",
                  "71.0",
                  "1/0/00",
                  "Corporate Auto",
                  "Four-Door Car",
                  "511.2"
                ],
                [
                  "9",
                  "BQ94931",
                  "Oregon",
                  "F",
                  "College",
                  "738817.81",
                  "28812.0",
                  "93.0",
                  "1/0/00",
                  "Special Auto",
                  "Four-Door Car",
                  "425.527834"
                ],
                [
                  "10",
                  "SX51350",
                  "California",
                  "M",
                  "College",
                  "473899.20",
                  "0.0",
                  "67.0",
                  "1/0/00",
                  "Personal Auto",
                  "Four-Door Car",
                  "482.4"
                ],
                [
                  "11",
                  "VQ65197",
                  "California",
                  null,
                  "College",
                  "819719.71",
                  "0.0",
                  "110.0",
                  "1/0/00",
                  "Personal Auto",
                  "SUV",
                  "528.0"
                ],
                [
                  "12",
                  "DP39365",
                  "California",
                  null,
                  "Master",
                  "879879.70",
                  "77026.0",
                  "110.0",
                  "1/2/00",
                  "Corporate Auto",
                  "Four-Door Car",
                  "472.029737"
                ],
                [
                  "13",
                  "SJ95423",
                  "Arizona",
                  null,
                  "High School or Below",
                  "881901.89",
                  "99845.0",
                  "110.0",
                  "1/1/00",
                  "Corporate Auto",
                  "SUV",
                  "528.0"
                ],
                [
                  "14",
                  "IL66569",
                  "California",
                  null,
                  "College",
                  "538443.17",
                  "83689.0",
                  "70.0",
                  "1/2/00",
                  "Corporate Auto",
                  "Four-Door Car",
                  "307.139132"
                ],
                [
                  "15",
                  "BW63560",
                  "Oregon",
                  null,
                  "Bachelor",
                  "746313.94",
                  "24599.0",
                  "64.0",
                  "1/1/00",
                  "Corporate Auto",
                  "Four-Door Car",
                  "42.920271"
                ],
                [
                  "16",
                  "FV94802",
                  "Nevada",
                  null,
                  "High School or Below",
                  "256686.78",
                  "25049.0",
                  "67.0",
                  "1/0/00",
                  "Personal Auto",
                  "Two-Door Car",
                  "454.245098"
                ],
                [
                  "17",
                  "OE15005",
                  "California",
                  null,
                  "College",
                  "394524.16",
                  "28855.0",
                  "101.0",
                  "1/0/00",
                  "Personal Auto",
                  "SUV",
                  "647.442031"
                ],
                [
                  "18",
                  "WC83389",
                  "Oregon",
                  null,
                  "College",
                  "571033.31",
                  "51148.0",
                  "72.0",
                  "1/0/00",
                  "Personal Auto",
                  "Four-Door Car",
                  "308.981664"
                ],
                [
                  "19",
                  "FL50705",
                  "California",
                  null,
                  "High School or Below",
                  "816261.71",
                  "66140.0",
                  "101.0",
                  "1/0/00",
                  "Corporate Auto",
                  "Four-Door Car",
                  "484.8"
                ],
                [
                  "20",
                  "ZK25313",
                  "Oregon",
                  null,
                  "High School or Below",
                  "287205.13",
                  "57749.0",
                  "74.0",
                  "1/0/00",
                  "Personal Auto",
                  "Two-Door Car",
                  "355.2"
                ],
                [
                  "21",
                  "QK46697",
                  "Washington",
                  "M",
                  "Bachelors",
                  "617710.93",
                  "61040.0",
                  "79.0",
                  "1/1/00",
                  "Personal Auto",
                  "Two-Door Car",
                  "20.382876"
                ],
                [
                  "22",
                  "YH23384",
                  "Arizona",
                  null,
                  "Bachelor",
                  "2412750.40",
                  "14072.0",
                  "71.0",
                  "1/0/00",
                  "Personal Auto",
                  "Four-Door Car",
                  "511.2"
                ],
                [
                  "23",
                  "TZ98966",
                  "Nevada",
                  null,
                  "Bachelor",
                  "245019.10",
                  "0.0",
                  "73.0",
                  "1/3/00",
                  "Corporate Auto",
                  "Four-Door Car",
                  "554.376763"
                ],
                [
                  "24",
                  "HM55802",
                  "California",
                  null,
                  "Bachelor",
                  "239210.79",
                  "17870.0",
                  "61.0",
                  "1/0/00",
                  "Corporate Auto",
                  "Four-Door Car",
                  "439.2"
                ],
                [
                  "25",
                  "FS42516",
                  "Oregon",
                  null,
                  "College",
                  "580206.60",
                  "97541.0",
                  "72.0",
                  "1/0/00",
                  "Personal Auto",
                  "Four-Door Car",
                  "389.185006"
                ],
                [
                  "26",
                  "US89481",
                  "California",
                  null,
                  "Bachelor",
                  "394637.21",
                  "0.0",
                  "111.0",
                  "1/0/00",
                  "Personal Auto",
                  "Four-Door Car",
                  "799.2"
                ],
                [
                  "27",
                  "HS14476",
                  "Washington",
                  "M",
                  "College",
                  "916206.32",
                  "29723.0",
                  "80.0",
                  "1/0/00",
                  "Personal Auto",
                  "Four-Door Car",
                  "20.985105"
                ],
                [
                  "28",
                  "GE62437",
                  "Arizona",
                  null,
                  "College",
                  "1290256.01",
                  "86584.0",
                  "111.0",
                  "1/2/00",
                  "Personal Auto",
                  "Four-Door Car",
                  "532.8"
                ],
                [
                  "29",
                  "EJ77678",
                  "Oregon",
                  null,
                  "Master",
                  "323536.05",
                  "75690.0",
                  "80.0",
                  "1/1/00",
                  "Personal Auto",
                  "Four-Door Car",
                  "384.0"
                ],
                [
                  "30",
                  "SV85652",
                  "Arizona",
                  null,
                  "College",
                  "245458.35",
                  "23158.0",
                  "63.0",
                  "1/1/00",
                  "Personal Auto",
                  "Four-Door Car",
                  "322.294043"
                ],
                [
                  "31",
                  "UL64533",
                  "Nevada",
                  null,
                  "High School or Below",
                  "1897545.61",
                  "65999.0",
                  "237.0",
                  "1/0/00",
                  "Corporate Auto",
                  "Luxury",
                  "615.927769"
                ],
                [
                  "32",
                  "PF41800",
                  "California",
                  null,
                  "Bachelor",
                  "471532.13",
                  "0.0",
                  "65.0",
                  "1/0/00",
                  "Personal Auto",
                  "Four-Door Car",
                  "308.15089"
                ],
                [
                  "33",
                  "HD95276",
                  "Washington",
                  "F",
                  "College",
                  "473787.17",
                  "0.0",
                  "130.0",
                  "1/0/00",
                  "Personal Auto",
                  "SUV",
                  "23.820158"
                ],
                [
                  "34",
                  "SK67821",
                  "Oregon",
                  null,
                  "Bachelor",
                  "493291.63",
                  "37260.0",
                  "62.0",
                  "1/0/00",
                  "Corporate Auto",
                  "Four-Door Car",
                  "15.437681"
                ],
                [
                  "35",
                  "YV55495",
                  "Arizona",
                  null,
                  "High School or Below",
                  "574422.97",
                  "68987.0",
                  "71.0",
                  "1/0/00",
                  "Personal Auto",
                  "Four-Door Car",
                  "204.475147"
                ],
                [
                  "36",
                  "KY38074",
                  "California",
                  null,
                  "Bachelor",
                  "1389173.57",
                  "42305.0",
                  "117.0",
                  "1/0/00",
                  "Personal Auto",
                  "Four-Door Car",
                  "561.6"
                ],
                [
                  "37",
                  "DM79012",
                  "Oregon",
                  null,
                  "Master",
                  "738097.67",
                  "65706.0",
                  "91.0",
                  "1/0/00",
                  "Personal Auto",
                  "Four-Door Car",
                  "436.8"
                ],
                [
                  "38",
                  "CM61827",
                  "Oregon",
                  null,
                  "Bachelor",
                  "309003.41",
                  "0.0",
                  "90.0",
                  "1/0/00",
                  "Personal Auto",
                  "Two-Door Car",
                  "648.0"
                ],
                [
                  "39",
                  "WC35801",
                  "Arizona",
                  null,
                  "High School or Below",
                  "252163.31",
                  "53243.0",
                  "66.0",
                  "1/2/00",
                  "Personal Auto",
                  "Four-Door Car",
                  "157.397849"
                ],
                [
                  "40",
                  "QG25316",
                  "Nevada",
                  null,
                  "High School or Below",
                  "265206.18",
                  "0.0",
                  "70.0",
                  "1/1/00",
                  "Corporate Auto",
                  "Two-Door Car",
                  "484.318536"
                ],
                [
                  "41",
                  "MB98372",
                  "Oregon",
                  null,
                  "College",
                  "277104.50",
                  "50071.0",
                  "71.0",
                  "1/0/00",
                  "Corporate Auto",
                  "Two-Door Car",
                  "18.918935"
                ],
                [
                  "42",
                  "IL19217",
                  "California",
                  null,
                  "Bachelor",
                  "393900.64",
                  "60021.0",
                  "99.0",
                  "1/0/00",
                  "Personal Auto",
                  "Four-Door Car",
                  "882.871945"
                ],
                [
                  "43",
                  "SR38658",
                  "Arizona",
                  null,
                  "High School or Below",
                  "1223187.97",
                  "43244.0",
                  "103.0",
                  "1/0/00",
                  "Personal Auto",
                  "Luxury",
                  "494.4"
                ],
                [
                  "44",
                  "YD87931",
                  "Washington",
                  "M",
                  "Doctor",
                  "495165.61",
                  "46896.0",
                  "35354.0",
                  "1/1/00",
                  "Personal Auto",
                  "Four-Door Car",
                  "31.707317"
                ],
                [
                  "45",
                  "HG65722",
                  "Oregon",
                  null,
                  "Doctor",
                  "1281910.29",
                  "10105.0",
                  "172.0",
                  "1/3/00",
                  "Personal Auto",
                  "SUV",
                  "0.517753"
                ],
                [
                  "46",
                  "BU27331",
                  "Arizona",
                  null,
                  "Bachelor",
                  "446851.05",
                  "0.0",
                  "73.0",
                  "1/3/00",
                  "Personal Auto",
                  "Four-Door Car",
                  "579.165954"
                ],
                [
                  "47",
                  "XM45289",
                  "Oregon",
                  null,
                  "High School or Below",
                  "551434.40",
                  "23218.0",
                  "71.0",
                  "1/0/00",
                  "Personal Auto",
                  "Two-Door Car",
                  "447.79344"
                ],
                [
                  "48",
                  "KP34198",
                  "California",
                  null,
                  "Bachelor",
                  "334387.53",
                  "0.0",
                  "92.0",
                  "1/0/00",
                  "Corporate Auto",
                  "Four-Door Car",
                  "529.624084"
                ],
                [
                  "49",
                  "SH90947",
                  "Arizona",
                  null,
                  "High School or Below",
                  "229447.89",
                  "0.0",
                  "62.0",
                  "1/0/00",
                  "Personal Auto",
                  "Four-Door Car",
                  "313.023175"
                ]
              ],
              "shape": {
                "columns": 11,
                "rows": 1071
              }
            },
            "text/html": [
              "<div>\n",
              "<style scoped>\n",
              "    .dataframe tbody tr th:only-of-type {\n",
              "        vertical-align: middle;\n",
              "    }\n",
              "\n",
              "    .dataframe tbody tr th {\n",
              "        vertical-align: top;\n",
              "    }\n",
              "\n",
              "    .dataframe thead th {\n",
              "        text-align: right;\n",
              "    }\n",
              "</style>\n",
              "<table border=\"1\" class=\"dataframe\">\n",
              "  <thead>\n",
              "    <tr style=\"text-align: right;\">\n",
              "      <th></th>\n",
              "      <th>customer</th>\n",
              "      <th>state</th>\n",
              "      <th>gender</th>\n",
              "      <th>education</th>\n",
              "      <th>customer_lifetime_value</th>\n",
              "      <th>income</th>\n",
              "      <th>monthly_premium_auto</th>\n",
              "      <th>number_of_open_complaints</th>\n",
              "      <th>policy_type</th>\n",
              "      <th>vehicle_class</th>\n",
              "      <th>total_claim_amount</th>\n",
              "    </tr>\n",
              "  </thead>\n",
              "  <tbody>\n",
              "    <tr>\n",
              "      <th>0</th>\n",
              "      <td>RB50392</td>\n",
              "      <td>Washington</td>\n",
              "      <td>NaN</td>\n",
              "      <td>Master</td>\n",
              "      <td>NaN</td>\n",
              "      <td>0.0</td>\n",
              "      <td>1000.0</td>\n",
              "      <td>1/0/00</td>\n",
              "      <td>Personal Auto</td>\n",
              "      <td>Four-Door Car</td>\n",
              "      <td>2.704934</td>\n",
              "    </tr>\n",
              "    <tr>\n",
              "      <th>1</th>\n",
              "      <td>QZ44356</td>\n",
              "      <td>Arizona</td>\n",
              "      <td>F</td>\n",
              "      <td>Bachelor</td>\n",
              "      <td>697953.59</td>\n",
              "      <td>0.0</td>\n",
              "      <td>94.0</td>\n",
              "      <td>1/0/00</td>\n",
              "      <td>Personal Auto</td>\n",
              "      <td>Four-Door Car</td>\n",
              "      <td>1131.464935</td>\n",
              "    </tr>\n",
              "    <tr>\n",
              "      <th>2</th>\n",
              "      <td>AI49188</td>\n",
              "      <td>Nevada</td>\n",
              "      <td>F</td>\n",
              "      <td>Bachelor</td>\n",
              "      <td>1288743.17</td>\n",
              "      <td>48767.0</td>\n",
              "      <td>108.0</td>\n",
              "      <td>1/0/00</td>\n",
              "      <td>Personal Auto</td>\n",
              "      <td>Two-Door Car</td>\n",
              "      <td>566.472247</td>\n",
              "    </tr>\n",
              "    <tr>\n",
              "      <th>3</th>\n",
              "      <td>WW63253</td>\n",
              "      <td>California</td>\n",
              "      <td>M</td>\n",
              "      <td>Bachelor</td>\n",
              "      <td>764586.18</td>\n",
              "      <td>0.0</td>\n",
              "      <td>106.0</td>\n",
              "      <td>1/0/00</td>\n",
              "      <td>Corporate Auto</td>\n",
              "      <td>SUV</td>\n",
              "      <td>529.881344</td>\n",
              "    </tr>\n",
              "    <tr>\n",
              "      <th>4</th>\n",
              "      <td>GA49547</td>\n",
              "      <td>Washington</td>\n",
              "      <td>M</td>\n",
              "      <td>High School or Below</td>\n",
              "      <td>536307.65</td>\n",
              "      <td>36357.0</td>\n",
              "      <td>68.0</td>\n",
              "      <td>1/0/00</td>\n",
              "      <td>Personal Auto</td>\n",
              "      <td>Four-Door Car</td>\n",
              "      <td>17.269323</td>\n",
              "    </tr>\n",
              "    <tr>\n",
              "      <th>...</th>\n",
              "      <td>...</td>\n",
              "      <td>...</td>\n",
              "      <td>...</td>\n",
              "      <td>...</td>\n",
              "      <td>...</td>\n",
              "      <td>...</td>\n",
              "      <td>...</td>\n",
              "      <td>...</td>\n",
              "      <td>...</td>\n",
              "      <td>...</td>\n",
              "      <td>...</td>\n",
              "    </tr>\n",
              "    <tr>\n",
              "      <th>1066</th>\n",
              "      <td>TM65736</td>\n",
              "      <td>Oregon</td>\n",
              "      <td>M</td>\n",
              "      <td>Master</td>\n",
              "      <td>305955.03</td>\n",
              "      <td>38644.0</td>\n",
              "      <td>78.0</td>\n",
              "      <td>1/1/00</td>\n",
              "      <td>Personal Auto</td>\n",
              "      <td>Four-Door Car</td>\n",
              "      <td>361.455219</td>\n",
              "    </tr>\n",
              "    <tr>\n",
              "      <th>1067</th>\n",
              "      <td>VJ51327</td>\n",
              "      <td>California</td>\n",
              "      <td>F</td>\n",
              "      <td>High School or Below</td>\n",
              "      <td>2031499.76</td>\n",
              "      <td>63209.0</td>\n",
              "      <td>102.0</td>\n",
              "      <td>1/2/00</td>\n",
              "      <td>Personal Auto</td>\n",
              "      <td>SUV</td>\n",
              "      <td>207.320041</td>\n",
              "    </tr>\n",
              "    <tr>\n",
              "      <th>1068</th>\n",
              "      <td>GS98873</td>\n",
              "      <td>Arizona</td>\n",
              "      <td>F</td>\n",
              "      <td>Bachelor</td>\n",
              "      <td>323912.47</td>\n",
              "      <td>16061.0</td>\n",
              "      <td>88.0</td>\n",
              "      <td>1/0/00</td>\n",
              "      <td>Personal Auto</td>\n",
              "      <td>Four-Door Car</td>\n",
              "      <td>633.600000</td>\n",
              "    </tr>\n",
              "    <tr>\n",
              "      <th>1069</th>\n",
              "      <td>CW49887</td>\n",
              "      <td>California</td>\n",
              "      <td>F</td>\n",
              "      <td>Master</td>\n",
              "      <td>462680.11</td>\n",
              "      <td>79487.0</td>\n",
              "      <td>114.0</td>\n",
              "      <td>1/0/00</td>\n",
              "      <td>Special Auto</td>\n",
              "      <td>SUV</td>\n",
              "      <td>547.200000</td>\n",
              "    </tr>\n",
              "    <tr>\n",
              "      <th>1070</th>\n",
              "      <td>MY31220</td>\n",
              "      <td>California</td>\n",
              "      <td>F</td>\n",
              "      <td>College</td>\n",
              "      <td>899704.02</td>\n",
              "      <td>54230.0</td>\n",
              "      <td>112.0</td>\n",
              "      <td>1/0/00</td>\n",
              "      <td>Personal Auto</td>\n",
              "      <td>Two-Door Car</td>\n",
              "      <td>537.600000</td>\n",
              "    </tr>\n",
              "  </tbody>\n",
              "</table>\n",
              "<p>1071 rows × 11 columns</p>\n",
              "</div>"
            ],
            "text/plain": [
              "     customer       state gender             education  \\\n",
              "0     RB50392  Washington    NaN                Master   \n",
              "1     QZ44356     Arizona      F              Bachelor   \n",
              "2     AI49188      Nevada      F              Bachelor   \n",
              "3     WW63253  California      M              Bachelor   \n",
              "4     GA49547  Washington      M  High School or Below   \n",
              "...       ...         ...    ...                   ...   \n",
              "1066  TM65736      Oregon      M                Master   \n",
              "1067  VJ51327  California      F  High School or Below   \n",
              "1068  GS98873     Arizona      F              Bachelor   \n",
              "1069  CW49887  California      F                Master   \n",
              "1070  MY31220  California      F               College   \n",
              "\n",
              "     customer_lifetime_value   income  monthly_premium_auto  \\\n",
              "0                        NaN      0.0                1000.0   \n",
              "1                  697953.59      0.0                  94.0   \n",
              "2                 1288743.17  48767.0                 108.0   \n",
              "3                  764586.18      0.0                 106.0   \n",
              "4                  536307.65  36357.0                  68.0   \n",
              "...                      ...      ...                   ...   \n",
              "1066               305955.03  38644.0                  78.0   \n",
              "1067              2031499.76  63209.0                 102.0   \n",
              "1068               323912.47  16061.0                  88.0   \n",
              "1069               462680.11  79487.0                 114.0   \n",
              "1070               899704.02  54230.0                 112.0   \n",
              "\n",
              "     number_of_open_complaints     policy_type  vehicle_class  \\\n",
              "0                       1/0/00   Personal Auto  Four-Door Car   \n",
              "1                       1/0/00   Personal Auto  Four-Door Car   \n",
              "2                       1/0/00   Personal Auto   Two-Door Car   \n",
              "3                       1/0/00  Corporate Auto            SUV   \n",
              "4                       1/0/00   Personal Auto  Four-Door Car   \n",
              "...                        ...             ...            ...   \n",
              "1066                    1/1/00   Personal Auto  Four-Door Car   \n",
              "1067                    1/2/00   Personal Auto            SUV   \n",
              "1068                    1/0/00   Personal Auto  Four-Door Car   \n",
              "1069                    1/0/00    Special Auto            SUV   \n",
              "1070                    1/0/00   Personal Auto   Two-Door Car   \n",
              "\n",
              "      total_claim_amount  \n",
              "0               2.704934  \n",
              "1            1131.464935  \n",
              "2             566.472247  \n",
              "3             529.881344  \n",
              "4              17.269323  \n",
              "...                  ...  \n",
              "1066          361.455219  \n",
              "1067          207.320041  \n",
              "1068          633.600000  \n",
              "1069          547.200000  \n",
              "1070          537.600000  \n",
              "\n",
              "[1071 rows x 11 columns]"
            ]
          },
          "execution_count": 228,
          "metadata": {},
          "output_type": "execute_result"
        }
      ],
      "source": [
        "customers_df"
      ]
    },
    {
      "cell_type": "markdown",
      "id": "85ff78ce-0174-4890-9db3-8048b7d7d2d0",
      "metadata": {
        "id": "85ff78ce-0174-4890-9db3-8048b7d7d2d0"
      },
      "source": [
        "## Exercise 3: Formatting data types"
      ]
    },
    {
      "cell_type": "markdown",
      "id": "b91c2cf8-79a2-4baf-9f65-ff2fb22270bd",
      "metadata": {
        "id": "b91c2cf8-79a2-4baf-9f65-ff2fb22270bd"
      },
      "source": [
        "The data types of many columns in the dataset appear to be incorrect. This could impact the accuracy of our analysis. To ensure accurate analysis, we need to correct the data types of these columns. Please update the data types of the columns as appropriate."
      ]
    },
    {
      "cell_type": "markdown",
      "id": "43e5d853-ff9e-43b2-9d92-aef2f78764f3",
      "metadata": {
        "id": "43e5d853-ff9e-43b2-9d92-aef2f78764f3"
      },
      "source": [
        "It is important to note that this exercise does not involve handling null values (NaN or None)."
      ]
    },
    {
      "cell_type": "markdown",
      "id": "329ca691-9196-4419-8969-3596746237a1",
      "metadata": {
        "id": "329ca691-9196-4419-8969-3596746237a1"
      },
      "source": [
        "*Hint*:\n",
        "- *Customer lifetime value should be numeric*\n",
        "- *Number of open complaints has an incorrect format. Look at the different values it takes with `unique()` and take the middle value. As an example, 1/5/00 should be 5. Number of open complaints is a string - remember you can use `split()` to deal with it and take the number you need. Finally, since it should be numeric, cast the column to be in its proper type.*"
      ]
    },
    {
      "cell_type": "code",
      "execution_count": 229,
      "id": "eb8f5991-73e9-405f-bf1c-6b7c589379a9",
      "metadata": {
        "id": "eb8f5991-73e9-405f-bf1c-6b7c589379a9"
      },
      "outputs": [],
      "source": [
        "customers_df[\"customer_lifetime_value\"] = customers_df[\"customer_lifetime_value\"].astype(float)\n",
        "customers_df[\"number_of_open_complaints\"] = customers_df['number_of_open_complaints'].str.replace('1/', '').str.replace('/00', '')\n",
        "customers_df[\"number_of_open_complaints\"] = customers_df['number_of_open_complaints'].str.replace('00', '1')\n",
        "customers_df[\"number_of_open_complaints\"] = customers_df['number_of_open_complaints'].fillna(0).astype(int)\n"
      ]
    },
    {
      "cell_type": "code",
      "execution_count": 230,
      "id": "abd6827d",
      "metadata": {},
      "outputs": [
        {
          "data": {
            "application/vnd.microsoft.datawrangler.viewer.v0+json": {
              "columns": [
                {
                  "name": "index",
                  "rawType": "object",
                  "type": "string"
                },
                {
                  "name": "0",
                  "rawType": "object",
                  "type": "unknown"
                }
              ],
              "ref": "662de0c7-20d4-4e62-b21b-214c46ef7bf7",
              "rows": [
                [
                  "customer",
                  "object"
                ],
                [
                  "state",
                  "object"
                ],
                [
                  "gender",
                  "object"
                ],
                [
                  "education",
                  "object"
                ],
                [
                  "customer_lifetime_value",
                  "float64"
                ],
                [
                  "income",
                  "float64"
                ],
                [
                  "monthly_premium_auto",
                  "float64"
                ],
                [
                  "number_of_open_complaints",
                  "int64"
                ],
                [
                  "policy_type",
                  "object"
                ],
                [
                  "vehicle_class",
                  "object"
                ],
                [
                  "total_claim_amount",
                  "float64"
                ]
              ],
              "shape": {
                "columns": 1,
                "rows": 11
              }
            },
            "text/plain": [
              "customer                      object\n",
              "state                         object\n",
              "gender                        object\n",
              "education                     object\n",
              "customer_lifetime_value      float64\n",
              "income                       float64\n",
              "monthly_premium_auto         float64\n",
              "number_of_open_complaints      int64\n",
              "policy_type                   object\n",
              "vehicle_class                 object\n",
              "total_claim_amount           float64\n",
              "dtype: object"
            ]
          },
          "execution_count": 230,
          "metadata": {},
          "output_type": "execute_result"
        }
      ],
      "source": [
        "customers_df[\"number_of_open_complaints\"].astype(str).astype(int)\n",
        "customers_df.dtypes"
      ]
    },
    {
      "cell_type": "markdown",
      "id": "14c52e28-2d0c-4dd2-8bd5-3476e34fadc1",
      "metadata": {
        "id": "14c52e28-2d0c-4dd2-8bd5-3476e34fadc1"
      },
      "source": [
        "## Exercise 4: Dealing with Null values"
      ]
    },
    {
      "cell_type": "markdown",
      "id": "34b9a20f-7d32-4417-975e-1b4dfb0e16cd",
      "metadata": {
        "id": "34b9a20f-7d32-4417-975e-1b4dfb0e16cd"
      },
      "source": [
        "Identify any columns with null or missing values. Identify how many null values each column has. You can use the `isnull()` function in pandas to find columns with null values.\n",
        "\n",
        "Decide on a strategy for handling the null values. There are several options, including:\n",
        "\n",
        "- Drop the rows or columns with null values\n",
        "- Fill the null values with a specific value (such as the column mean or median for numerical variables, and mode for categorical variables)\n",
        "- Fill the null values with the previous or next value in the column\n",
        "- Fill the null values based on a more complex algorithm or model (note: we haven't covered this yet)\n",
        "\n",
        "Implement your chosen strategy to handle the null values. You can use the `fillna()` function in pandas to fill null values or `dropna()` function to drop null values.\n",
        "\n",
        "Verify that your strategy has successfully handled the null values. You can use the `isnull()` function again to check if there are still null values in the dataset.\n",
        "\n",
        "Remember to document your process and explain your reasoning for choosing a particular strategy for handling null values.\n",
        "\n",
        "After formatting data types, as a last step, convert all the numeric variables to integers."
      ]
    },
    {
      "cell_type": "code",
      "execution_count": 231,
      "id": "f184fc35-7831-4836-a0a5-e7f99e01b40e",
      "metadata": {
        "id": "f184fc35-7831-4836-a0a5-e7f99e01b40e"
      },
      "outputs": [
        {
          "data": {
            "application/vnd.microsoft.datawrangler.viewer.v0+json": {
              "columns": [
                {
                  "name": "index",
                  "rawType": "object",
                  "type": "string"
                },
                {
                  "name": "0",
                  "rawType": "int64",
                  "type": "integer"
                }
              ],
              "ref": "99cdc49f-810c-4d42-8d23-e05b5fc2a2d5",
              "rows": [
                [
                  "customer",
                  "0"
                ],
                [
                  "state",
                  "0"
                ],
                [
                  "gender",
                  "117"
                ],
                [
                  "education",
                  "0"
                ],
                [
                  "customer_lifetime_value",
                  "3"
                ],
                [
                  "income",
                  "0"
                ],
                [
                  "monthly_premium_auto",
                  "0"
                ],
                [
                  "number_of_open_complaints",
                  "0"
                ],
                [
                  "policy_type",
                  "0"
                ],
                [
                  "vehicle_class",
                  "0"
                ],
                [
                  "total_claim_amount",
                  "0"
                ]
              ],
              "shape": {
                "columns": 1,
                "rows": 11
              }
            },
            "text/plain": [
              "customer                       0\n",
              "state                          0\n",
              "gender                       117\n",
              "education                      0\n",
              "customer_lifetime_value        3\n",
              "income                         0\n",
              "monthly_premium_auto           0\n",
              "number_of_open_complaints      0\n",
              "policy_type                    0\n",
              "vehicle_class                  0\n",
              "total_claim_amount             0\n",
              "dtype: int64"
            ]
          },
          "execution_count": 231,
          "metadata": {},
          "output_type": "execute_result"
        }
      ],
      "source": [
        "customers_df.isna().sum()"
      ]
    },
    {
      "cell_type": "code",
      "execution_count": 232,
      "id": "11817319",
      "metadata": {},
      "outputs": [],
      "source": [
        "# customers_df['customer_lifetime_value'].mean()\n",
        "# customers_df[\"customer_lifetime_value\"] = customers_df['customer_lifetime_value'].replace(np.nan, customers_df['customer_lifetime_value'].mean())\n",
        "customers_df.fillna({'customer_lifetime_value': customers_df['customer_lifetime_value'].mean()}, inplace=True)"
      ]
    },
    {
      "cell_type": "code",
      "execution_count": 233,
      "id": "516cd04c",
      "metadata": {},
      "outputs": [],
      "source": [
        "customers_df.fillna({'gender': 'Unknown'}, inplace=True)"
      ]
    },
    {
      "cell_type": "code",
      "execution_count": 234,
      "id": "11b06eb8",
      "metadata": {},
      "outputs": [
        {
          "data": {
            "application/vnd.microsoft.datawrangler.viewer.v0+json": {
              "columns": [
                {
                  "name": "index",
                  "rawType": "object",
                  "type": "string"
                },
                {
                  "name": "0",
                  "rawType": "int64",
                  "type": "integer"
                }
              ],
              "ref": "6f747bcd-d5a0-49c3-b896-4419062ed369",
              "rows": [
                [
                  "customer",
                  "0"
                ],
                [
                  "state",
                  "0"
                ],
                [
                  "gender",
                  "0"
                ],
                [
                  "education",
                  "0"
                ],
                [
                  "customer_lifetime_value",
                  "0"
                ],
                [
                  "income",
                  "0"
                ],
                [
                  "monthly_premium_auto",
                  "0"
                ],
                [
                  "number_of_open_complaints",
                  "0"
                ],
                [
                  "policy_type",
                  "0"
                ],
                [
                  "vehicle_class",
                  "0"
                ],
                [
                  "total_claim_amount",
                  "0"
                ]
              ],
              "shape": {
                "columns": 1,
                "rows": 11
              }
            },
            "text/plain": [
              "customer                     0\n",
              "state                        0\n",
              "gender                       0\n",
              "education                    0\n",
              "customer_lifetime_value      0\n",
              "income                       0\n",
              "monthly_premium_auto         0\n",
              "number_of_open_complaints    0\n",
              "policy_type                  0\n",
              "vehicle_class                0\n",
              "total_claim_amount           0\n",
              "dtype: int64"
            ]
          },
          "execution_count": 234,
          "metadata": {},
          "output_type": "execute_result"
        }
      ],
      "source": [
        "customers_df.isna().sum()\n",
        "\n",
        "# I decided to replace the three missing values in the customer_lifetime_value column with the mean of the column because it is a numerical column and replacing with the mean is a common practice to avoid biasing the data. \n",
        "# For gender, I avoided replacing the missing values because it is a categorical column and replacing with the mode could bias the data.\n",
        "# For number_of_open_complaints, I replaced the missing values with 0 because it makes sense that if there is no data, the customer has no open complaints."
      ]
    },
    {
      "cell_type": "markdown",
      "id": "98416351-e999-4156-9834-9b00a311adfa",
      "metadata": {
        "id": "98416351-e999-4156-9834-9b00a311adfa"
      },
      "source": [
        "## Exercise 5: Dealing with duplicates"
      ]
    },
    {
      "cell_type": "markdown",
      "id": "ea0816a7-a18e-4d4c-b667-a8452a800bd1",
      "metadata": {
        "id": "ea0816a7-a18e-4d4c-b667-a8452a800bd1"
      },
      "source": [
        "Use the `.duplicated()` method to identify any duplicate rows in the dataframe.\n",
        "\n",
        "Decide on a strategy for handling the duplicates. Options include:\n",
        "- Dropping all duplicate rows\n",
        "- Keeping only the first occurrence of each duplicated row\n",
        "- Keeping only the last occurrence of each duplicated row\n",
        "- Dropping duplicates based on a subset of columns\n",
        "- Dropping duplicates based on a specific column\n",
        "\n",
        "Implement your chosen strategy using the `drop_duplicates()` function.\n",
        "\n",
        "Verify that your strategy has successfully handled the duplicates by checking for duplicates again using `.duplicated()`.\n",
        "\n",
        "Remember to document your process and explain your reasoning for choosing a particular strategy for handling duplicates.\n",
        "\n",
        "Save the cleaned dataset to a new CSV file.\n",
        "\n",
        "*Hint*: *after dropping duplicates, reset the index to ensure consistency*."
      ]
    },
    {
      "cell_type": "code",
      "execution_count": 235,
      "id": "1929362c-47ed-47cb-baca-358b78d401a0",
      "metadata": {
        "id": "1929362c-47ed-47cb-baca-358b78d401a0"
      },
      "outputs": [],
      "source": [
        "customers_df.nunique()\n",
        "\n",
        "# Since customer lifetime value has the highest number of unique values, I will use it to identify duplicates.\n",
        "customers_df.duplicated(subset=[\"customer_lifetime_value\", \"income\", \"state\"]).sum()\n",
        "customers_df.drop_duplicates(subset=[\"customer_lifetime_value\", \"income\", \"state\"], keep='first', inplace=True)"
      ]
    },
    {
      "cell_type": "code",
      "execution_count": 236,
      "id": "b8b16eb9",
      "metadata": {},
      "outputs": [
        {
          "data": {
            "application/vnd.microsoft.datawrangler.viewer.v0+json": {
              "columns": [
                {
                  "name": "index",
                  "rawType": "object",
                  "type": "string"
                },
                {
                  "name": "0",
                  "rawType": "int64",
                  "type": "integer"
                }
              ],
              "ref": "fb1ce94f-1ace-487f-bba9-6f81c938786e",
              "rows": [
                [
                  "customer",
                  "1054"
                ],
                [
                  "state",
                  "5"
                ],
                [
                  "gender",
                  "3"
                ],
                [
                  "education",
                  "6"
                ],
                [
                  "customer_lifetime_value",
                  "1028"
                ],
                [
                  "income",
                  "774"
                ],
                [
                  "monthly_premium_auto",
                  "132"
                ],
                [
                  "number_of_open_complaints",
                  "6"
                ],
                [
                  "policy_type",
                  "3"
                ],
                [
                  "vehicle_class",
                  "4"
                ],
                [
                  "total_claim_amount",
                  "761"
                ]
              ],
              "shape": {
                "columns": 1,
                "rows": 11
              }
            },
            "text/plain": [
              "customer                     1054\n",
              "state                           5\n",
              "gender                          3\n",
              "education                       6\n",
              "customer_lifetime_value      1028\n",
              "income                        774\n",
              "monthly_premium_auto          132\n",
              "number_of_open_complaints       6\n",
              "policy_type                     3\n",
              "vehicle_class                   4\n",
              "total_claim_amount            761\n",
              "dtype: int64"
            ]
          },
          "execution_count": 236,
          "metadata": {},
          "output_type": "execute_result"
        }
      ],
      "source": [
        "customers_df.nunique()"
      ]
    },
    {
      "cell_type": "code",
      "execution_count": 237,
      "id": "a9d82fef",
      "metadata": {},
      "outputs": [],
      "source": [
        "# Checking the value counts of customer_lifetime_value with total_claim_amount to ensure there are no duplicates\n",
        "customers_df.duplicated(subset=[\"customer_lifetime_value\", \"total_claim_amount\"]).sum()\n",
        "customers_df.drop_duplicates(subset=[\"customer_lifetime_value\", \"total_claim_amount\"], keep='first', inplace=True)"
      ]
    },
    {
      "cell_type": "code",
      "execution_count": 238,
      "id": "a8924370",
      "metadata": {},
      "outputs": [
        {
          "data": {
            "application/vnd.microsoft.datawrangler.viewer.v0+json": {
              "columns": [
                {
                  "name": "index",
                  "rawType": "int64",
                  "type": "integer"
                },
                {
                  "name": "customer",
                  "rawType": "object",
                  "type": "string"
                },
                {
                  "name": "state",
                  "rawType": "object",
                  "type": "string"
                },
                {
                  "name": "gender",
                  "rawType": "object",
                  "type": "string"
                },
                {
                  "name": "education",
                  "rawType": "object",
                  "type": "string"
                },
                {
                  "name": "customer_lifetime_value",
                  "rawType": "float64",
                  "type": "float"
                },
                {
                  "name": "income",
                  "rawType": "float64",
                  "type": "float"
                },
                {
                  "name": "monthly_premium_auto",
                  "rawType": "float64",
                  "type": "float"
                },
                {
                  "name": "number_of_open_complaints",
                  "rawType": "int64",
                  "type": "integer"
                },
                {
                  "name": "policy_type",
                  "rawType": "object",
                  "type": "string"
                },
                {
                  "name": "vehicle_class",
                  "rawType": "object",
                  "type": "string"
                },
                {
                  "name": "total_claim_amount",
                  "rawType": "float64",
                  "type": "float"
                }
              ],
              "ref": "74c41464-f860-4f00-9614-1c1fb355f1d0",
              "rows": [
                [
                  "0",
                  "RB50392",
                  "Washington",
                  "Unknown",
                  "Master",
                  "793690.2593445693",
                  "0.0",
                  "1000.0",
                  "0",
                  "Personal Auto",
                  "Four-Door Car",
                  "2.704934"
                ],
                [
                  "1",
                  "QZ44356",
                  "Arizona",
                  "F",
                  "Bachelor",
                  "697953.59",
                  "0.0",
                  "94.0",
                  "0",
                  "Personal Auto",
                  "Four-Door Car",
                  "1131.464935"
                ],
                [
                  "2",
                  "AI49188",
                  "Nevada",
                  "F",
                  "Bachelor",
                  "1288743.17",
                  "48767.0",
                  "108.0",
                  "0",
                  "Personal Auto",
                  "Two-Door Car",
                  "566.472247"
                ],
                [
                  "3",
                  "WW63253",
                  "California",
                  "M",
                  "Bachelor",
                  "764586.18",
                  "0.0",
                  "106.0",
                  "0",
                  "Corporate Auto",
                  "SUV",
                  "529.881344"
                ],
                [
                  "4",
                  "GA49547",
                  "Washington",
                  "M",
                  "High School or Below",
                  "536307.65",
                  "36357.0",
                  "68.0",
                  "0",
                  "Personal Auto",
                  "Four-Door Car",
                  "17.269323"
                ],
                [
                  "5",
                  "OC83172",
                  "Oregon",
                  "F",
                  "Bachelor",
                  "825629.78",
                  "62902.0",
                  "69.0",
                  "0",
                  "Personal Auto",
                  "Two-Door Car",
                  "159.383042"
                ],
                [
                  "6",
                  "XZ87318",
                  "Oregon",
                  "F",
                  "College",
                  "538089.86",
                  "55350.0",
                  "67.0",
                  "0",
                  "Corporate Auto",
                  "Four-Door Car",
                  "321.6"
                ],
                [
                  "7",
                  "CF85061",
                  "Arizona",
                  "M",
                  "Master",
                  "721610.03",
                  "0.0",
                  "101.0",
                  "0",
                  "Corporate Auto",
                  "Four-Door Car",
                  "363.02968"
                ],
                [
                  "8",
                  "DY87989",
                  "Oregon",
                  "M",
                  "Bachelor",
                  "2412750.4",
                  "14072.0",
                  "71.0",
                  "0",
                  "Corporate Auto",
                  "Four-Door Car",
                  "511.2"
                ],
                [
                  "9",
                  "BQ94931",
                  "Oregon",
                  "F",
                  "College",
                  "738817.81",
                  "28812.0",
                  "93.0",
                  "0",
                  "Special Auto",
                  "Four-Door Car",
                  "425.527834"
                ],
                [
                  "10",
                  "SX51350",
                  "California",
                  "M",
                  "College",
                  "473899.2",
                  "0.0",
                  "67.0",
                  "0",
                  "Personal Auto",
                  "Four-Door Car",
                  "482.4"
                ],
                [
                  "11",
                  "VQ65197",
                  "California",
                  "Unknown",
                  "College",
                  "819719.71",
                  "0.0",
                  "110.0",
                  "0",
                  "Personal Auto",
                  "SUV",
                  "528.0"
                ],
                [
                  "12",
                  "DP39365",
                  "California",
                  "Unknown",
                  "Master",
                  "879879.7",
                  "77026.0",
                  "110.0",
                  "2",
                  "Corporate Auto",
                  "Four-Door Car",
                  "472.029737"
                ],
                [
                  "13",
                  "SJ95423",
                  "Arizona",
                  "Unknown",
                  "High School or Below",
                  "881901.89",
                  "99845.0",
                  "110.0",
                  "1",
                  "Corporate Auto",
                  "SUV",
                  "528.0"
                ],
                [
                  "14",
                  "IL66569",
                  "California",
                  "Unknown",
                  "College",
                  "538443.17",
                  "83689.0",
                  "70.0",
                  "2",
                  "Corporate Auto",
                  "Four-Door Car",
                  "307.139132"
                ],
                [
                  "15",
                  "BW63560",
                  "Oregon",
                  "Unknown",
                  "Bachelor",
                  "746313.94",
                  "24599.0",
                  "64.0",
                  "1",
                  "Corporate Auto",
                  "Four-Door Car",
                  "42.920271"
                ],
                [
                  "16",
                  "FV94802",
                  "Nevada",
                  "Unknown",
                  "High School or Below",
                  "256686.78",
                  "25049.0",
                  "67.0",
                  "0",
                  "Personal Auto",
                  "Two-Door Car",
                  "454.245098"
                ],
                [
                  "17",
                  "OE15005",
                  "California",
                  "Unknown",
                  "College",
                  "394524.16",
                  "28855.0",
                  "101.0",
                  "0",
                  "Personal Auto",
                  "SUV",
                  "647.442031"
                ],
                [
                  "18",
                  "WC83389",
                  "Oregon",
                  "Unknown",
                  "College",
                  "571033.31",
                  "51148.0",
                  "72.0",
                  "0",
                  "Personal Auto",
                  "Four-Door Car",
                  "308.981664"
                ],
                [
                  "19",
                  "FL50705",
                  "California",
                  "Unknown",
                  "High School or Below",
                  "816261.71",
                  "66140.0",
                  "101.0",
                  "0",
                  "Corporate Auto",
                  "Four-Door Car",
                  "484.8"
                ],
                [
                  "20",
                  "ZK25313",
                  "Oregon",
                  "Unknown",
                  "High School or Below",
                  "287205.13",
                  "57749.0",
                  "74.0",
                  "0",
                  "Personal Auto",
                  "Two-Door Car",
                  "355.2"
                ],
                [
                  "21",
                  "QK46697",
                  "Washington",
                  "M",
                  "Bachelors",
                  "617710.93",
                  "61040.0",
                  "79.0",
                  "1",
                  "Personal Auto",
                  "Two-Door Car",
                  "20.382876"
                ],
                [
                  "23",
                  "TZ98966",
                  "Nevada",
                  "Unknown",
                  "Bachelor",
                  "245019.1",
                  "0.0",
                  "73.0",
                  "3",
                  "Corporate Auto",
                  "Four-Door Car",
                  "554.376763"
                ],
                [
                  "24",
                  "HM55802",
                  "California",
                  "Unknown",
                  "Bachelor",
                  "239210.79",
                  "17870.0",
                  "61.0",
                  "0",
                  "Corporate Auto",
                  "Four-Door Car",
                  "439.2"
                ],
                [
                  "25",
                  "FS42516",
                  "Oregon",
                  "Unknown",
                  "College",
                  "580206.6",
                  "97541.0",
                  "72.0",
                  "0",
                  "Personal Auto",
                  "Four-Door Car",
                  "389.185006"
                ],
                [
                  "26",
                  "US89481",
                  "California",
                  "Unknown",
                  "Bachelor",
                  "394637.21",
                  "0.0",
                  "111.0",
                  "0",
                  "Personal Auto",
                  "Four-Door Car",
                  "799.2"
                ],
                [
                  "27",
                  "HS14476",
                  "Washington",
                  "M",
                  "College",
                  "916206.32",
                  "29723.0",
                  "80.0",
                  "0",
                  "Personal Auto",
                  "Four-Door Car",
                  "20.985105"
                ],
                [
                  "28",
                  "GE62437",
                  "Arizona",
                  "Unknown",
                  "College",
                  "1290256.01",
                  "86584.0",
                  "111.0",
                  "2",
                  "Personal Auto",
                  "Four-Door Car",
                  "532.8"
                ],
                [
                  "29",
                  "EJ77678",
                  "Oregon",
                  "Unknown",
                  "Master",
                  "323536.05",
                  "75690.0",
                  "80.0",
                  "1",
                  "Personal Auto",
                  "Four-Door Car",
                  "384.0"
                ],
                [
                  "30",
                  "SV85652",
                  "Arizona",
                  "Unknown",
                  "College",
                  "245458.35",
                  "23158.0",
                  "63.0",
                  "1",
                  "Personal Auto",
                  "Four-Door Car",
                  "322.294043"
                ],
                [
                  "31",
                  "UL64533",
                  "Nevada",
                  "Unknown",
                  "High School or Below",
                  "1897545.61",
                  "65999.0",
                  "237.0",
                  "0",
                  "Corporate Auto",
                  "Luxury",
                  "615.927769"
                ],
                [
                  "32",
                  "PF41800",
                  "California",
                  "Unknown",
                  "Bachelor",
                  "471532.13",
                  "0.0",
                  "65.0",
                  "0",
                  "Personal Auto",
                  "Four-Door Car",
                  "308.15089"
                ],
                [
                  "33",
                  "HD95276",
                  "Washington",
                  "F",
                  "College",
                  "473787.17",
                  "0.0",
                  "130.0",
                  "0",
                  "Personal Auto",
                  "SUV",
                  "23.820158"
                ],
                [
                  "34",
                  "SK67821",
                  "Oregon",
                  "Unknown",
                  "Bachelor",
                  "493291.63",
                  "37260.0",
                  "62.0",
                  "0",
                  "Corporate Auto",
                  "Four-Door Car",
                  "15.437681"
                ],
                [
                  "35",
                  "YV55495",
                  "Arizona",
                  "Unknown",
                  "High School or Below",
                  "574422.97",
                  "68987.0",
                  "71.0",
                  "0",
                  "Personal Auto",
                  "Four-Door Car",
                  "204.475147"
                ],
                [
                  "36",
                  "KY38074",
                  "California",
                  "Unknown",
                  "Bachelor",
                  "1389173.57",
                  "42305.0",
                  "117.0",
                  "0",
                  "Personal Auto",
                  "Four-Door Car",
                  "561.6"
                ],
                [
                  "37",
                  "DM79012",
                  "Oregon",
                  "Unknown",
                  "Master",
                  "738097.67",
                  "65706.0",
                  "91.0",
                  "0",
                  "Personal Auto",
                  "Four-Door Car",
                  "436.8"
                ],
                [
                  "38",
                  "CM61827",
                  "Oregon",
                  "Unknown",
                  "Bachelor",
                  "309003.41",
                  "0.0",
                  "90.0",
                  "0",
                  "Personal Auto",
                  "Two-Door Car",
                  "648.0"
                ],
                [
                  "39",
                  "WC35801",
                  "Arizona",
                  "Unknown",
                  "High School or Below",
                  "252163.31",
                  "53243.0",
                  "66.0",
                  "2",
                  "Personal Auto",
                  "Four-Door Car",
                  "157.397849"
                ],
                [
                  "40",
                  "QG25316",
                  "Nevada",
                  "Unknown",
                  "High School or Below",
                  "265206.18",
                  "0.0",
                  "70.0",
                  "1",
                  "Corporate Auto",
                  "Two-Door Car",
                  "484.318536"
                ],
                [
                  "41",
                  "MB98372",
                  "Oregon",
                  "Unknown",
                  "College",
                  "277104.5",
                  "50071.0",
                  "71.0",
                  "0",
                  "Corporate Auto",
                  "Two-Door Car",
                  "18.918935"
                ],
                [
                  "42",
                  "IL19217",
                  "California",
                  "Unknown",
                  "Bachelor",
                  "393900.64",
                  "60021.0",
                  "99.0",
                  "0",
                  "Personal Auto",
                  "Four-Door Car",
                  "882.871945"
                ],
                [
                  "43",
                  "SR38658",
                  "Arizona",
                  "Unknown",
                  "High School or Below",
                  "1223187.97",
                  "43244.0",
                  "103.0",
                  "0",
                  "Personal Auto",
                  "Luxury",
                  "494.4"
                ],
                [
                  "44",
                  "YD87931",
                  "Washington",
                  "M",
                  "Doctor",
                  "495165.61",
                  "46896.0",
                  "35354.0",
                  "1",
                  "Personal Auto",
                  "Four-Door Car",
                  "31.707317"
                ],
                [
                  "45",
                  "HG65722",
                  "Oregon",
                  "Unknown",
                  "Doctor",
                  "1281910.29",
                  "10105.0",
                  "172.0",
                  "3",
                  "Personal Auto",
                  "SUV",
                  "0.517753"
                ],
                [
                  "46",
                  "BU27331",
                  "Arizona",
                  "Unknown",
                  "Bachelor",
                  "446851.05",
                  "0.0",
                  "73.0",
                  "3",
                  "Personal Auto",
                  "Four-Door Car",
                  "579.165954"
                ],
                [
                  "47",
                  "XM45289",
                  "Oregon",
                  "Unknown",
                  "High School or Below",
                  "551434.4",
                  "23218.0",
                  "71.0",
                  "0",
                  "Personal Auto",
                  "Two-Door Car",
                  "447.79344"
                ],
                [
                  "48",
                  "KP34198",
                  "California",
                  "Unknown",
                  "Bachelor",
                  "334387.53",
                  "0.0",
                  "92.0",
                  "0",
                  "Corporate Auto",
                  "Four-Door Car",
                  "529.624084"
                ],
                [
                  "49",
                  "SH90947",
                  "Arizona",
                  "Unknown",
                  "High School or Below",
                  "229447.89",
                  "0.0",
                  "62.0",
                  "0",
                  "Personal Auto",
                  "Four-Door Car",
                  "313.023175"
                ],
                [
                  "50",
                  "WE95729",
                  "Oregon",
                  "Unknown",
                  "College",
                  "3670742.64",
                  "24804.0",
                  "104.0",
                  "0",
                  "Personal Auto",
                  "SUV",
                  "593.830288"
                ]
              ],
              "shape": {
                "columns": 11,
                "rows": 1030
              }
            },
            "text/html": [
              "<div>\n",
              "<style scoped>\n",
              "    .dataframe tbody tr th:only-of-type {\n",
              "        vertical-align: middle;\n",
              "    }\n",
              "\n",
              "    .dataframe tbody tr th {\n",
              "        vertical-align: top;\n",
              "    }\n",
              "\n",
              "    .dataframe thead th {\n",
              "        text-align: right;\n",
              "    }\n",
              "</style>\n",
              "<table border=\"1\" class=\"dataframe\">\n",
              "  <thead>\n",
              "    <tr style=\"text-align: right;\">\n",
              "      <th></th>\n",
              "      <th>customer</th>\n",
              "      <th>state</th>\n",
              "      <th>gender</th>\n",
              "      <th>education</th>\n",
              "      <th>customer_lifetime_value</th>\n",
              "      <th>income</th>\n",
              "      <th>monthly_premium_auto</th>\n",
              "      <th>number_of_open_complaints</th>\n",
              "      <th>policy_type</th>\n",
              "      <th>vehicle_class</th>\n",
              "      <th>total_claim_amount</th>\n",
              "    </tr>\n",
              "  </thead>\n",
              "  <tbody>\n",
              "    <tr>\n",
              "      <th>0</th>\n",
              "      <td>RB50392</td>\n",
              "      <td>Washington</td>\n",
              "      <td>Unknown</td>\n",
              "      <td>Master</td>\n",
              "      <td>7.936903e+05</td>\n",
              "      <td>0.0</td>\n",
              "      <td>1000.0</td>\n",
              "      <td>0</td>\n",
              "      <td>Personal Auto</td>\n",
              "      <td>Four-Door Car</td>\n",
              "      <td>2.704934</td>\n",
              "    </tr>\n",
              "    <tr>\n",
              "      <th>1</th>\n",
              "      <td>QZ44356</td>\n",
              "      <td>Arizona</td>\n",
              "      <td>F</td>\n",
              "      <td>Bachelor</td>\n",
              "      <td>6.979536e+05</td>\n",
              "      <td>0.0</td>\n",
              "      <td>94.0</td>\n",
              "      <td>0</td>\n",
              "      <td>Personal Auto</td>\n",
              "      <td>Four-Door Car</td>\n",
              "      <td>1131.464935</td>\n",
              "    </tr>\n",
              "    <tr>\n",
              "      <th>2</th>\n",
              "      <td>AI49188</td>\n",
              "      <td>Nevada</td>\n",
              "      <td>F</td>\n",
              "      <td>Bachelor</td>\n",
              "      <td>1.288743e+06</td>\n",
              "      <td>48767.0</td>\n",
              "      <td>108.0</td>\n",
              "      <td>0</td>\n",
              "      <td>Personal Auto</td>\n",
              "      <td>Two-Door Car</td>\n",
              "      <td>566.472247</td>\n",
              "    </tr>\n",
              "    <tr>\n",
              "      <th>3</th>\n",
              "      <td>WW63253</td>\n",
              "      <td>California</td>\n",
              "      <td>M</td>\n",
              "      <td>Bachelor</td>\n",
              "      <td>7.645862e+05</td>\n",
              "      <td>0.0</td>\n",
              "      <td>106.0</td>\n",
              "      <td>0</td>\n",
              "      <td>Corporate Auto</td>\n",
              "      <td>SUV</td>\n",
              "      <td>529.881344</td>\n",
              "    </tr>\n",
              "    <tr>\n",
              "      <th>4</th>\n",
              "      <td>GA49547</td>\n",
              "      <td>Washington</td>\n",
              "      <td>M</td>\n",
              "      <td>High School or Below</td>\n",
              "      <td>5.363077e+05</td>\n",
              "      <td>36357.0</td>\n",
              "      <td>68.0</td>\n",
              "      <td>0</td>\n",
              "      <td>Personal Auto</td>\n",
              "      <td>Four-Door Car</td>\n",
              "      <td>17.269323</td>\n",
              "    </tr>\n",
              "    <tr>\n",
              "      <th>...</th>\n",
              "      <td>...</td>\n",
              "      <td>...</td>\n",
              "      <td>...</td>\n",
              "      <td>...</td>\n",
              "      <td>...</td>\n",
              "      <td>...</td>\n",
              "      <td>...</td>\n",
              "      <td>...</td>\n",
              "      <td>...</td>\n",
              "      <td>...</td>\n",
              "      <td>...</td>\n",
              "    </tr>\n",
              "    <tr>\n",
              "      <th>1065</th>\n",
              "      <td>XD85577</td>\n",
              "      <td>California</td>\n",
              "      <td>M</td>\n",
              "      <td>Bachelor</td>\n",
              "      <td>2.842267e+05</td>\n",
              "      <td>69417.0</td>\n",
              "      <td>73.0</td>\n",
              "      <td>1</td>\n",
              "      <td>Personal Auto</td>\n",
              "      <td>Four-Door Car</td>\n",
              "      <td>30.874869</td>\n",
              "    </tr>\n",
              "    <tr>\n",
              "      <th>1066</th>\n",
              "      <td>TM65736</td>\n",
              "      <td>Oregon</td>\n",
              "      <td>M</td>\n",
              "      <td>Master</td>\n",
              "      <td>3.059550e+05</td>\n",
              "      <td>38644.0</td>\n",
              "      <td>78.0</td>\n",
              "      <td>1</td>\n",
              "      <td>Personal Auto</td>\n",
              "      <td>Four-Door Car</td>\n",
              "      <td>361.455219</td>\n",
              "    </tr>\n",
              "    <tr>\n",
              "      <th>1067</th>\n",
              "      <td>VJ51327</td>\n",
              "      <td>California</td>\n",
              "      <td>F</td>\n",
              "      <td>High School or Below</td>\n",
              "      <td>2.031500e+06</td>\n",
              "      <td>63209.0</td>\n",
              "      <td>102.0</td>\n",
              "      <td>2</td>\n",
              "      <td>Personal Auto</td>\n",
              "      <td>SUV</td>\n",
              "      <td>207.320041</td>\n",
              "    </tr>\n",
              "    <tr>\n",
              "      <th>1068</th>\n",
              "      <td>GS98873</td>\n",
              "      <td>Arizona</td>\n",
              "      <td>F</td>\n",
              "      <td>Bachelor</td>\n",
              "      <td>3.239125e+05</td>\n",
              "      <td>16061.0</td>\n",
              "      <td>88.0</td>\n",
              "      <td>0</td>\n",
              "      <td>Personal Auto</td>\n",
              "      <td>Four-Door Car</td>\n",
              "      <td>633.600000</td>\n",
              "    </tr>\n",
              "    <tr>\n",
              "      <th>1070</th>\n",
              "      <td>MY31220</td>\n",
              "      <td>California</td>\n",
              "      <td>F</td>\n",
              "      <td>College</td>\n",
              "      <td>8.997040e+05</td>\n",
              "      <td>54230.0</td>\n",
              "      <td>112.0</td>\n",
              "      <td>0</td>\n",
              "      <td>Personal Auto</td>\n",
              "      <td>Two-Door Car</td>\n",
              "      <td>537.600000</td>\n",
              "    </tr>\n",
              "  </tbody>\n",
              "</table>\n",
              "<p>1030 rows × 11 columns</p>\n",
              "</div>"
            ],
            "text/plain": [
              "     customer       state   gender             education  \\\n",
              "0     RB50392  Washington  Unknown                Master   \n",
              "1     QZ44356     Arizona        F              Bachelor   \n",
              "2     AI49188      Nevada        F              Bachelor   \n",
              "3     WW63253  California        M              Bachelor   \n",
              "4     GA49547  Washington        M  High School or Below   \n",
              "...       ...         ...      ...                   ...   \n",
              "1065  XD85577  California        M              Bachelor   \n",
              "1066  TM65736      Oregon        M                Master   \n",
              "1067  VJ51327  California        F  High School or Below   \n",
              "1068  GS98873     Arizona        F              Bachelor   \n",
              "1070  MY31220  California        F               College   \n",
              "\n",
              "      customer_lifetime_value   income  monthly_premium_auto  \\\n",
              "0                7.936903e+05      0.0                1000.0   \n",
              "1                6.979536e+05      0.0                  94.0   \n",
              "2                1.288743e+06  48767.0                 108.0   \n",
              "3                7.645862e+05      0.0                 106.0   \n",
              "4                5.363077e+05  36357.0                  68.0   \n",
              "...                       ...      ...                   ...   \n",
              "1065             2.842267e+05  69417.0                  73.0   \n",
              "1066             3.059550e+05  38644.0                  78.0   \n",
              "1067             2.031500e+06  63209.0                 102.0   \n",
              "1068             3.239125e+05  16061.0                  88.0   \n",
              "1070             8.997040e+05  54230.0                 112.0   \n",
              "\n",
              "      number_of_open_complaints     policy_type  vehicle_class  \\\n",
              "0                             0   Personal Auto  Four-Door Car   \n",
              "1                             0   Personal Auto  Four-Door Car   \n",
              "2                             0   Personal Auto   Two-Door Car   \n",
              "3                             0  Corporate Auto            SUV   \n",
              "4                             0   Personal Auto  Four-Door Car   \n",
              "...                         ...             ...            ...   \n",
              "1065                          1   Personal Auto  Four-Door Car   \n",
              "1066                          1   Personal Auto  Four-Door Car   \n",
              "1067                          2   Personal Auto            SUV   \n",
              "1068                          0   Personal Auto  Four-Door Car   \n",
              "1070                          0   Personal Auto   Two-Door Car   \n",
              "\n",
              "      total_claim_amount  \n",
              "0               2.704934  \n",
              "1            1131.464935  \n",
              "2             566.472247  \n",
              "3             529.881344  \n",
              "4              17.269323  \n",
              "...                  ...  \n",
              "1065           30.874869  \n",
              "1066          361.455219  \n",
              "1067          207.320041  \n",
              "1068          633.600000  \n",
              "1070          537.600000  \n",
              "\n",
              "[1030 rows x 11 columns]"
            ]
          },
          "execution_count": 238,
          "metadata": {},
          "output_type": "execute_result"
        }
      ],
      "source": [
        "customers_df"
      ]
    },
    {
      "cell_type": "code",
      "execution_count": 239,
      "id": "4eee282c",
      "metadata": {},
      "outputs": [],
      "source": [
        "customers_df.to_csv('Updated Customers Profile', index=False)"
      ]
    },
    {
      "cell_type": "markdown",
      "id": "60840701-4783-40e2-b4d8-55303f9100c9",
      "metadata": {
        "id": "60840701-4783-40e2-b4d8-55303f9100c9"
      },
      "source": [
        "# Bonus: Challenge 2: creating functions on a separate `py` file"
      ]
    },
    {
      "cell_type": "markdown",
      "id": "9d1adb3a-17cf-4899-8041-da21a4337fb4",
      "metadata": {
        "id": "9d1adb3a-17cf-4899-8041-da21a4337fb4"
      },
      "source": [
        "Put all the data cleaning and formatting steps into functions, and create a main function that performs all the cleaning and formatting.\n",
        "\n",
        "Write these functions in separate .py file(s). By putting these steps into functions, we can make the code more modular and easier to maintain."
      ]
    },
    {
      "cell_type": "markdown",
      "id": "0e170dc2-b62c-417a-8248-e63ed18a70c4",
      "metadata": {
        "id": "0e170dc2-b62c-417a-8248-e63ed18a70c4"
      },
      "source": [
        "*Hint: autoreload module is a utility module in Python that allows you to automatically reload modules in the current session when changes are made to the source code. This can be useful in situations where you are actively developing code and want to see the effects of changes you make without having to constantly restart the Python interpreter or Jupyter Notebook kernel.*"
      ]
    },
    {
      "cell_type": "code",
      "execution_count": 240,
      "id": "a52c6dfc-cd11-4d01-bda4-f719fa33e9a4",
      "metadata": {
        "id": "a52c6dfc-cd11-4d01-bda4-f719fa33e9a4"
      },
      "outputs": [],
      "source": [
        "# Your code here"
      ]
    },
    {
      "cell_type": "markdown",
      "id": "80f846bb-3f5e-4ca2-96c0-900728daca5a",
      "metadata": {
        "id": "80f846bb-3f5e-4ca2-96c0-900728daca5a",
        "tags": []
      },
      "source": [
        "# Bonus: Challenge 3: Analyzing Clean and Formated Data"
      ]
    },
    {
      "cell_type": "markdown",
      "id": "9021630e-cc90-446c-b5bd-264d6c864207",
      "metadata": {
        "id": "9021630e-cc90-446c-b5bd-264d6c864207"
      },
      "source": [
        "You have been tasked with analyzing the data to identify potential areas for improving customer retention and profitability. Your goal is to identify customers with a high policy claim amount and a low customer lifetime value.\n",
        "\n",
        "In the Pandas Lab, we only looked at high policy claim amounts because we couldn't look into low customer lifetime values. If we had tried to work with that column, we wouldn't have been able to because customer lifetime value wasn't clean and in its proper format. So after cleaning and formatting the data, let's get some more interesting insights!\n",
        "\n",
        "Instructions:\n",
        "\n",
        "- Review the statistics again for total claim amount and customer lifetime value to gain an understanding of the data.\n",
        "- To identify potential areas for improving customer retention and profitability, we want to focus on customers with a high policy claim amount and a low customer lifetime value. Consider customers with a high policy claim amount to be those in the top 25% of the total claim amount, and clients with a low customer lifetime value to be those in the bottom 25% of the customer lifetime value. Create a pandas DataFrame object that contains information about customers with a policy claim amount greater than the 75th percentile and a customer lifetime value in the bottom 25th percentile.\n",
        "- Use DataFrame methods to calculate summary statistics about the high policy claim amount and low customer lifetime value data. To do so, select both columns of the dataframe simultaneously and pass it to the `.describe()` method. This will give you descriptive statistics, such as mean, median, standard deviation, minimum and maximum values for both columns at the same time, allowing you to compare and analyze their characteristics."
      ]
    },
    {
      "cell_type": "code",
      "execution_count": 241,
      "id": "211e82b5-461a-4d6f-8a23-4deccb84173c",
      "metadata": {
        "id": "211e82b5-461a-4d6f-8a23-4deccb84173c"
      },
      "outputs": [],
      "source": [
        "# Your code here"
      ]
    }
  ],
  "metadata": {
    "colab": {
      "provenance": []
    },
    "kernelspec": {
      "display_name": "base",
      "language": "python",
      "name": "python3"
    },
    "language_info": {
      "codemirror_mode": {
        "name": "ipython",
        "version": 3
      },
      "file_extension": ".py",
      "mimetype": "text/x-python",
      "name": "python",
      "nbconvert_exporter": "python",
      "pygments_lexer": "ipython3",
      "version": "3.13.5"
    }
  },
  "nbformat": 4,
  "nbformat_minor": 5
}
